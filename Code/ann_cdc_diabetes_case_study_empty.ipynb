{
  "nbformat": 4,
  "nbformat_minor": 0,
  "metadata": {
    "colab": {
      "provenance": [],
      "collapsed_sections": [
        "r5ZBkZFzfHlX",
        "wTAfMjjLKtWU",
        "9JKhmvvNfSpV",
        "rhi4jibCfzAA",
        "Ch-vrnaogH1U",
        "dG5Cdyt3WLQI",
        "0G8I8EUwWyIs",
        "DScqmRetcWvz",
        "fy_cxSW7faOU",
        "g68L_EXJgqOL",
        "GQ2Q_jNezsds",
        "VnW6T5DFnj0d",
        "GzmOuGejsud3",
        "SFqCIDyntbI-",
        "bSa3pfAhzKlz",
        "CTelpmC3ka8u",
        "g6d8_H2ckeZe",
        "J84GkYCqknbt",
        "iS1IOwSNhVdo"
      ]
    },
    "kernelspec": {
      "name": "python3",
      "display_name": "Python 3"
    },
    "language_info": {
      "name": "python"
    }
  },
  "cells": [
    {
      "cell_type": "markdown",
      "source": [
        "# Import Libraries and Data"
      ],
      "metadata": {
        "id": "r5ZBkZFzfHlX"
      }
    },
    {
      "cell_type": "code",
      "execution_count": null,
      "metadata": {
        "id": "rxEPeO4_e86O"
      },
      "outputs": [],
      "source": [
        "import pandas as pd\n",
        "import numpy as np\n",
        "import matplotlib.pyplot as plt\n",
        "import plotly.express as px\n",
        "import tensorflow as tf\n",
        "import warnings\n",
        "tf.__version__"
      ]
    },
    {
      "cell_type": "code",
      "source": [
        "dataset = pd.read_csv(\"diabetes_012_health_indicators_BRFSS2015.csv\")"
      ],
      "metadata": {
        "id": "pgiiye3Vff-3"
      },
      "execution_count": null,
      "outputs": []
    },
    {
      "cell_type": "markdown",
      "source": [
        "#### Helper Blocks"
      ],
      "metadata": {
        "id": "wTAfMjjLKtWU"
      }
    },
    {
      "cell_type": "code",
      "source": [
        "def ignore_warning():\n",
        "  warnings.filterwarnings('ignore')"
      ],
      "metadata": {
        "id": "nsUm2MOXKwIm"
      },
      "execution_count": null,
      "outputs": []
    },
    {
      "cell_type": "markdown",
      "source": [
        "# Understanding the Data"
      ],
      "metadata": {
        "id": "9JKhmvvNfSpV"
      }
    },
    {
      "cell_type": "markdown",
      "source": [
        "## Column Information"
      ],
      "metadata": {
        "id": "rhi4jibCfzAA"
      }
    },
    {
      "cell_type": "markdown",
      "source": [
        "Shown below is some information about the dataset. This dataset has 21 features (index 1-21) and 1 output column (Diabetes_012).\n",
        "\n",
        "The Diabetes_012 column has values 0, 1 or 2. This stands for:\n",
        " * No Diabetes or diabetes only when Pregnant\n",
        " * Pre-diabetes\n",
        " * Diabetes  \n",
        "\n",
        "Respectively."
      ],
      "metadata": {
        "id": "m6XKsz3WU4mV"
      }
    },
    {
      "cell_type": "code",
      "source": [
        "dataset.info()"
      ],
      "metadata": {
        "id": "viUzqJS8f1Kz"
      },
      "execution_count": null,
      "outputs": []
    },
    {
      "cell_type": "markdown",
      "source": [
        "## Visualising the Data Records"
      ],
      "metadata": {
        "id": "Ch-vrnaogH1U"
      }
    },
    {
      "cell_type": "markdown",
      "source": [
        "As shown below, the data in this dataset is already encoded from Categorical data to integer values (For example, Male=1 and Female=0, Smoker=1 and Non-Smoker=0, etc.)"
      ],
      "metadata": {
        "id": "1GpAIr7mgehc"
      }
    },
    {
      "cell_type": "code",
      "source": [
        "pd.options.display.max_columns = None\n",
        "dataset.head()"
      ],
      "metadata": {
        "id": "vHNAV0QFgZVi"
      },
      "execution_count": null,
      "outputs": []
    },
    {
      "cell_type": "markdown",
      "source": [
        "To better visualise what the dataset is describing, the encoded categorical data has been reversed from integers to categorical data in a separate dataframe"
      ],
      "metadata": {
        "id": "oc98L5FchmYA"
      }
    },
    {
      "cell_type": "code",
      "source": [
        "visual_dataset = dataset.copy()"
      ],
      "metadata": {
        "id": "0BE7PrQ6hwOW"
      },
      "execution_count": null,
      "outputs": []
    },
    {
      "cell_type": "code",
      "source": [
        "visual_dataset.Diabetes_012 = visual_dataset.Diabetes_012.replace([0, 1, 2], ['No Diabetes','Pre Diabetes','Diabetes'])\n",
        "visual_dataset.HighBP = visual_dataset.HighBP.replace([0,1], ['No High BP', 'High BP'])\n",
        "visual_dataset.HighChol = visual_dataset.HighChol.replace([0,1], ['No High Cholesterol','High Cholesterol'])\n",
        "visual_dataset.CholCheck = visual_dataset.CholCheck.replace([0,1], ['No Cholesterol Check in 5 Years','Cholesterol Check in 5 Years'])\n",
        "#visual_dataset.BMI = NA\n",
        "visual_dataset.Smoker = visual_dataset.Smoker.replace([0,1], ['No', 'Yes'])\n",
        "visual_dataset.Stroke = visual_dataset.Stroke.replace([0,1], ['No', 'Yes'])\n",
        "visual_dataset.HeartDiseaseorAttack = visual_dataset.HeartDiseaseorAttack.replace([0,1], ['No', 'Yes'])\n",
        "visual_dataset.PhysActivity = visual_dataset.PhysActivity.replace([0,1], ['No', 'Yes'])\n",
        "visual_dataset.Fruits = visual_dataset.Fruits.replace([0,1], ['No', 'Yes'])\n",
        "visual_dataset.Veggies = visual_dataset.Veggies.replace([0,1], ['No', 'Yes'])\n",
        "visual_dataset.HvyAlcoholConsump = visual_dataset.HvyAlcoholConsump.replace([0,1], ['No', 'Yes'])\n",
        "visual_dataset.AnyHealthcare = visual_dataset.AnyHealthcare.replace([0,1], ['No', 'Yes'])\n",
        "visual_dataset.NoDocbcCost = visual_dataset.NoDocbcCost.replace([0,1], ['No', 'Yes'])\n",
        "visual_dataset.GenHlth = visual_dataset.GenHlth.replace([1,2,3,4,5], ['Excellent', 'Very Good', 'Good', 'Fair', 'Poor'])\n",
        "#visual_dataset.MentHlth = NA\n",
        "#visual_dataset.PhysHlth = NA\n",
        "visual_dataset.DiffWalk = visual_dataset.DiffWalk.replace([0,1], ['No', 'Yes'])\n",
        "visual_dataset.Sex = visual_dataset.Sex.replace([0,1], ['Female', 'Male'])\n",
        "visual_dataset.Age = visual_dataset.Age.replace(\n",
        "    [1, 2, 3, 4, 5, 6, 7, 8, 9, 10, 11, 12, 13],\n",
        "    ['18 to 24', '25 to 29', '30 to 34', '35 to 39',\n",
        "     '40 to 44', '45 to 49', '50 to 54', '55 to 59',\n",
        "     '60 to 64', '65 to 69', '70 to 74', '75 to 79',\n",
        "     '80 or Older']\n",
        ")\n",
        "visual_dataset.Education = visual_dataset.Education.replace(\n",
        "    [1, 2, 3, 4, 5, 6],\n",
        "    ['Never Attended School', 'Elementary', 'Some High School',\n",
        "     'High School Graduate', 'Some College/Technical School', 'College Graduate']\n",
        ")\n",
        "visual_dataset.Income = visual_dataset.Income.replace(\n",
        "    [1, 2, 3, 4, 5, 6, 7, 8],\n",
        "    ['Less Than $10,000', 'Less Than $15,000',\n",
        "     'Less Than $20,000', 'Less Than $25,000',\n",
        "     'Less Than $35,000', 'Less Than $50,000',\n",
        "     'Less Than $75,000', '$75,000 or More']\n",
        ")"
      ],
      "metadata": {
        "id": "x0jBd_BWiACG"
      },
      "execution_count": null,
      "outputs": []
    },
    {
      "cell_type": "code",
      "source": [
        "visual_dataset.head()"
      ],
      "metadata": {
        "id": "ipPhIgWhiQFP"
      },
      "execution_count": null,
      "outputs": []
    },
    {
      "cell_type": "markdown",
      "source": [
        "## Data Analysis"
      ],
      "metadata": {
        "id": "dG5Cdyt3WLQI"
      }
    },
    {
      "cell_type": "markdown",
      "source": [
        "Before creating the Artificial Neural Network, below are a few graphs that analyse the data and explore the correlation between diabetes and the different features of the data.\n"
      ],
      "metadata": {
        "id": "eYUlhkTIWSyN"
      }
    },
    {
      "cell_type": "markdown",
      "source": [
        "### Diabetes and Blood Pressure"
      ],
      "metadata": {
        "id": "0G8I8EUwWyIs"
      }
    },
    {
      "cell_type": "markdown",
      "source": [
        "Even though, the overall number of people without diabetes is high, people with high blood pressure tend to have a higher suceptibility to diabetes. This can be seen as there are about three times as many diabetes patients with high blood pressure than there are with no high blood pressure."
      ],
      "metadata": {
        "id": "fHJ4d6-ob-RJ"
      }
    },
    {
      "cell_type": "code",
      "source": [
        "dbp_fig = px.histogram(visual_dataset,\n",
        "                   x='HighBP',\n",
        "                   nbins=47,\n",
        "                   color='Diabetes_012',\n",
        "                   title='Distribution of Blood Pressure')\n",
        "dbp_fig.update_layout(bargap=0.8)\n",
        "\n",
        "dbp_fig.show()"
      ],
      "metadata": {
        "id": "ETh9RU3kW2MU"
      },
      "execution_count": null,
      "outputs": []
    },
    {
      "cell_type": "markdown",
      "source": [
        "### Diabetes and Cholesterol"
      ],
      "metadata": {
        "id": "DScqmRetcWvz"
      }
    },
    {
      "cell_type": "markdown",
      "source": [
        "The number of patients with diabetes **and** high cholesterol is almost double the patients with diabetes and **no cholesterol**. As seen by the ribbon above the graph, the distribution of no diabetes and no cholesterol is higher than the distribution of no diabetes and cholesterol. The inverse of the stated can be seen for patients with diabetes, thus proving a relevant correlation between choesterol and diabetes."
      ],
      "metadata": {
        "id": "vQegtMhLdxkS"
      }
    },
    {
      "cell_type": "code",
      "source": [
        "dbp_fig = px.histogram(visual_dataset,\n",
        "                   x='HighChol',\n",
        "                   nbins=47,\n",
        "                   marginal='violin',\n",
        "                   color='Diabetes_012',\n",
        "                   title='Distribution of Cholesterol')\n",
        "dbp_fig.update_layout(bargap=0.8)\n",
        "\n",
        "dbp_fig.show()"
      ],
      "metadata": {
        "id": "hO9NfvB6cbBY"
      },
      "execution_count": null,
      "outputs": []
    },
    {
      "cell_type": "markdown",
      "source": [
        "### Diabetes and Smoking"
      ],
      "metadata": {
        "id": "fy_cxSW7faOU"
      }
    },
    {
      "cell_type": "markdown",
      "source": [
        "In the case of the correlation between diabetes and smoking, it can immediately be seen that the fact that the patient smokes has little effect on their suceptibility of contracting diabetes."
      ],
      "metadata": {
        "id": "egfgHIhxfgDB"
      }
    },
    {
      "cell_type": "code",
      "source": [
        "dbp_fig = px.histogram(visual_dataset,\n",
        "                   x='Smoker',\n",
        "                   nbins=47,\n",
        "                   marginal='violin',\n",
        "                   color='Diabetes_012',\n",
        "                   title='Distribution of Smoking')\n",
        "dbp_fig.update_layout(bargap=0.8)\n",
        "\n",
        "dbp_fig.show()"
      ],
      "metadata": {
        "id": "xSp8vCNrfgWs"
      },
      "execution_count": null,
      "outputs": []
    },
    {
      "cell_type": "markdown",
      "source": [
        "### Diabetes and Physical Activity"
      ],
      "metadata": {
        "id": "g68L_EXJgqOL"
      }
    },
    {
      "cell_type": "markdown",
      "source": [
        "The skew of the number of patients that partake in physical activity versus the number of patients that do not, makes the analysis of the correlation challenging.\n",
        "\n",
        "Despite this, the difference between diabetes and non-diabetes patients in the 'No Physical Activity' category is mush smaller than in the 'Physical Activity' category. This shows that patients that are physcially active have higher chances of not contracting diabetes, and patients that are not physically active, have a higher chance of contracting diabetes.\n",
        "\n"
      ],
      "metadata": {
        "id": "8JiiwIPFgtkS"
      }
    },
    {
      "cell_type": "code",
      "source": [
        "dbp_fig = px.histogram(visual_dataset,\n",
        "                   x='PhysActivity',\n",
        "                   nbins=47,\n",
        "                   barmode='group',\n",
        "                   color='Diabetes_012',\n",
        "                   title='Distribution of Physical Activity')\n",
        "dbp_fig.update_layout(bargap=0.8)\n",
        "\n",
        "dbp_fig.show()"
      ],
      "metadata": {
        "id": "u_b5LThHgtDm"
      },
      "execution_count": null,
      "outputs": []
    },
    {
      "cell_type": "markdown",
      "source": [
        "### Diabetes and Alcohol Consumption"
      ],
      "metadata": {
        "id": "GQ2Q_jNezsds"
      }
    },
    {
      "cell_type": "markdown",
      "source": [
        "As seen with Physical Activity, the same can be deduced from the below graph. Patients that have heavy alcohol consumption levels are more succeptible to contracting the disease than patients that do not have a heavy consumption level."
      ],
      "metadata": {
        "id": "wEiA3JvpzwGZ"
      }
    },
    {
      "cell_type": "code",
      "source": [
        "dbp_fig = px.histogram(visual_dataset,\n",
        "                   x='HvyAlcoholConsump',\n",
        "                   nbins=47,\n",
        "                   barmode='group',\n",
        "                   color='Diabetes_012',\n",
        "                   title='Distribution of Alcohol Consumption')\n",
        "dbp_fig.update_layout(bargap=0.8)\n",
        "\n",
        "dbp_fig.show()"
      ],
      "metadata": {
        "id": "vD2TTuZ0zwWh"
      },
      "execution_count": null,
      "outputs": []
    },
    {
      "cell_type": "markdown",
      "source": [
        "### Diabetes and Mental Health"
      ],
      "metadata": {
        "id": "VnW6T5DFnj0d"
      }
    },
    {
      "cell_type": "markdown",
      "source": [
        "With the graph below, it can be deduced that Mental Health does have a significant impact on a patient's risk of contracting diabetes.\n",
        "\n",
        "Since the sample space of the patients with 0 days of 'poor' mental health is so large, the chart seems very skewed. However, if focus is kept on how the 'No Diabetes' bar gets closer to the 'Diabetes' bar along the Mental Health axis, it can be said that people that experience fewer days of 'poor' mental health are more likely to avoid diabetes."
      ],
      "metadata": {
        "id": "KZ9DqtUinvdH"
      }
    },
    {
      "cell_type": "code",
      "source": [
        "dbp_fig = px.histogram(visual_dataset,\n",
        "                   x='MentHlth',\n",
        "                   nbins=47,\n",
        "                   barmode='group',\n",
        "                   color='Diabetes_012',\n",
        "                   title='Distribution of Mental Health')\n",
        "dbp_fig.update_layout(bargap=0.2)\n",
        "\n",
        "dbp_fig.show()"
      ],
      "metadata": {
        "id": "H1iEcr13nv4I"
      },
      "execution_count": null,
      "outputs": []
    },
    {
      "cell_type": "markdown",
      "source": [
        "### Diabetes and Physical Health"
      ],
      "metadata": {
        "id": "GzmOuGejsud3"
      }
    },
    {
      "cell_type": "markdown",
      "source": [
        "As seen with Mental Health, the same can be said for Physical Health."
      ],
      "metadata": {
        "id": "Yg_BzbUqsxHd"
      }
    },
    {
      "cell_type": "code",
      "source": [
        "dbp_fig = px.histogram(visual_dataset,\n",
        "                   x='PhysHlth',\n",
        "                   nbins=47,\n",
        "                   barmode='group',\n",
        "                   color='Diabetes_012',\n",
        "                   title='Distribution of Physical Health')\n",
        "dbp_fig.update_layout(bargap=0.2)\n",
        "\n",
        "dbp_fig.show()"
      ],
      "metadata": {
        "id": "ojc_xsc2sxZE"
      },
      "execution_count": null,
      "outputs": []
    },
    {
      "cell_type": "markdown",
      "source": [
        "### Diabetes and Age"
      ],
      "metadata": {
        "id": "SFqCIDyntbI-"
      }
    },
    {
      "cell_type": "markdown",
      "source": [
        "As seen by the chart below, older patients are more succeptible to contracting diabetes.\n",
        "\n",
        "Even though the sample space for older patients is larger than younger patients with this data, the variance within each age category decreases as age increases. This shows that the variance between older patients with and without diabetes is less meaning the split is more even. Versus younger patients that have a lower percentage of diabetes patients within the sample space."
      ],
      "metadata": {
        "id": "ADXApRo5tdkB"
      }
    },
    {
      "cell_type": "code",
      "source": [
        "dbp_fig = px.histogram(visual_dataset,\n",
        "                   x='Age',\n",
        "                   nbins=47,\n",
        "                   color='Diabetes_012',\n",
        "                   title='Distribution of Age').update_xaxes(categoryorder='category ascending')\n",
        "dbp_fig.update_layout(bargap=0.2)\n",
        "\n",
        "dbp_fig.show()"
      ],
      "metadata": {
        "id": "Ool4-PUZtd54"
      },
      "execution_count": null,
      "outputs": []
    },
    {
      "cell_type": "markdown",
      "source": [
        "# The Neural Network"
      ],
      "metadata": {
        "id": "CMDQnJsTviu2"
      }
    },
    {
      "cell_type": "markdown",
      "source": [
        "## Data Preprocessing"
      ],
      "metadata": {
        "id": "zUhtk-Fyvti-"
      }
    },
    {
      "cell_type": "markdown",
      "source": [
        "### Separating Features"
      ],
      "metadata": {
        "id": "1Td1T2t-x2jC"
      }
    },
    {
      "cell_type": "code",
      "source": [
        "X_visual = dataset.iloc[:, 1:]\n",
        "X = dataset.iloc[:,1:].values\n",
        "y = dataset.iloc[:,0].values"
      ],
      "metadata": {
        "id": "QVn0KLLevwDr"
      },
      "execution_count": null,
      "outputs": []
    },
    {
      "cell_type": "markdown",
      "source": [
        "### Splitting Dataset"
      ],
      "metadata": {
        "id": "IiSzHd-zx5TV"
      }
    },
    {
      "cell_type": "code",
      "source": [
        "from sklearn.model_selection import train_test_split\n",
        "X_train, X_test, y_train, y_test = train_test_split(X, y, test_size=0.25)"
      ],
      "metadata": {
        "id": "1urFyHYVwiOg"
      },
      "execution_count": null,
      "outputs": []
    },
    {
      "cell_type": "markdown",
      "source": [
        "### Feature Scaling"
      ],
      "metadata": {
        "id": "TFm69bIbr_6Q"
      }
    },
    {
      "cell_type": "code",
      "source": [
        "from sklearn.preprocessing import StandardScaler\n",
        "sc = StandardScaler()\n",
        "X_train = sc.fit_transform(X_train)\n",
        "X_test = sc.transform(X_test)"
      ],
      "metadata": {
        "id": "HbszD0bdsC9D"
      },
      "execution_count": null,
      "outputs": []
    },
    {
      "cell_type": "markdown",
      "source": [
        "Categorize the Dependent Variable"
      ],
      "metadata": {
        "id": "eqsPKgKfsfcl"
      }
    },
    {
      "cell_type": "code",
      "source": [
        "cat_y_train = tf.keras.utils.to_categorical(y_train)\n",
        "cat_y_test = tf.keras.utils.to_categorical(y_test)"
      ],
      "metadata": {
        "id": "hwUtLzgjsk55"
      },
      "execution_count": null,
      "outputs": []
    },
    {
      "cell_type": "markdown",
      "source": [
        "## Building the ANN"
      ],
      "metadata": {
        "id": "dAlRjPjMyZDr"
      }
    },
    {
      "cell_type": "markdown",
      "source": [
        "### Initialising the ANN"
      ],
      "metadata": {
        "id": "cKS1fCG0ycBN"
      }
    },
    {
      "cell_type": "code",
      "source": [
        "ann = tf.keras.models.Sequential()"
      ],
      "metadata": {
        "id": "-aDSOjVbyjAp"
      },
      "execution_count": null,
      "outputs": []
    },
    {
      "cell_type": "markdown",
      "source": [
        "### Input and 1st Hidden Layer"
      ],
      "metadata": {
        "id": "uI-1IQ6Wyt8X"
      }
    },
    {
      "cell_type": "code",
      "source": [
        "ann.add(tf.keras.layers.Dense(units=17, activation='relu'))"
      ],
      "metadata": {
        "id": "VFEyUTCLytsQ"
      },
      "execution_count": null,
      "outputs": []
    },
    {
      "cell_type": "markdown",
      "source": [
        "### Deep Hidden Layers"
      ],
      "metadata": {
        "id": "bSa3pfAhzKlz"
      }
    },
    {
      "cell_type": "code",
      "source": [
        "ann.add(tf.keras.layers.Dense(units=17, activation='relu')) #2nd Hidden Layer\n",
        "ann.add(tf.keras.layers.Dense(units=17, activation='relu')) #3rd Hidden Layer\n",
        "ann.add(tf.keras.layers.Dense(units=17, activation='relu')) #4th Hidden Layer\n",
        "ann.add(tf.keras.layers.Dense(units=17, activation='relu')) #5th Hidden Layer"
      ],
      "metadata": {
        "id": "kuhnzipQzPRq"
      },
      "execution_count": null,
      "outputs": []
    },
    {
      "cell_type": "markdown",
      "source": [
        "### Output Layer"
      ],
      "metadata": {
        "id": "0T2oegPBzeS9"
      }
    },
    {
      "cell_type": "code",
      "source": [
        "ann.add(tf.keras.layers.Dense(units=3, activation='softmax'))"
      ],
      "metadata": {
        "id": "1GbOGp2Qzf-K"
      },
      "execution_count": null,
      "outputs": []
    },
    {
      "cell_type": "markdown",
      "source": [
        "## Training the ANN"
      ],
      "metadata": {
        "id": "CTelpmC3ka8u"
      }
    },
    {
      "cell_type": "markdown",
      "source": [
        "### Compile"
      ],
      "metadata": {
        "id": "g6d8_H2ckeZe"
      }
    },
    {
      "cell_type": "code",
      "source": [
        "ann.compile(optimizer='adam', loss='categorical_crossentropy', metrics=['accuracy'])"
      ],
      "metadata": {
        "id": "T8_6kRQYknPZ"
      },
      "execution_count": null,
      "outputs": []
    },
    {
      "cell_type": "markdown",
      "source": [
        "### Train"
      ],
      "metadata": {
        "id": "J84GkYCqknbt"
      }
    },
    {
      "cell_type": "code",
      "source": [
        "ann.fit(X_train, cat_y_train, batch_size=40, epochs=100)"
      ],
      "metadata": {
        "id": "uWidzOaWkoef"
      },
      "execution_count": null,
      "outputs": []
    },
    {
      "cell_type": "markdown",
      "source": [
        "## Predicting the Results of the Test Set"
      ],
      "metadata": {
        "id": "iS1IOwSNhVdo"
      }
    },
    {
      "cell_type": "code",
      "source": [
        "cat_y_pred = ann.predict(X_test)\n",
        "cat_y_pred_bool = np.argmax(cat_y_pred, axis=1)\n",
        "y_pred = cat_y_pred_bool.astype(float)"
      ],
      "metadata": {
        "id": "lHZxQgOuhaoc"
      },
      "execution_count": null,
      "outputs": []
    },
    {
      "cell_type": "markdown",
      "source": [
        "## Evaluating the ANN"
      ],
      "metadata": {
        "id": "qh0-1KYRjVXV"
      }
    },
    {
      "cell_type": "markdown",
      "source": [
        "### Confusion Matrix"
      ],
      "metadata": {
        "id": "u0I33-Av4q53"
      }
    },
    {
      "cell_type": "markdown",
      "source": [
        "The confusion matrix below shows that the ANN predicted majority cases as No Diabetes - even when the true value was Pre-Diabetes or Diabetes. This shows the imbalanced nature of the dataset, and that the ANN was overfitted on 'No Diabetes' samples and underfitted on the other two classes."
      ],
      "metadata": {
        "id": "TKTDeK6Rpj6r"
      }
    },
    {
      "cell_type": "code",
      "source": [
        "import matplotlib.pyplot as plt\n",
        "from sklearn.metrics import confusion_matrix, ConfusionMatrixDisplay\n",
        "cm = confusion_matrix(y_test, y_pred)\n",
        "\n",
        "cm_display = ConfusionMatrixDisplay(cm, display_labels=['No Diabetes', 'Pre-Diabetes', 'Diabetes'])\n",
        "\n",
        "cm_display.plot(cmap='pink_r')\n",
        "plt.show()"
      ],
      "metadata": {
        "id": "7qDTw7ukiONZ"
      },
      "execution_count": null,
      "outputs": []
    },
    {
      "cell_type": "markdown",
      "source": [
        "### Classification Report"
      ],
      "metadata": {
        "id": "n4TZCthr4u-A"
      }
    },
    {
      "cell_type": "markdown",
      "source": [
        "Below is the classification report of the ANN.  \n",
        "> #### **Precision**: Accuracy of positive predictions.  \n",
        "  *Precision is the ability of a classifier not to label an instance positive that is actually negative. For each class it is defined as the ratio of true positives to the sum of true and false positives.*  \n",
        "  The precision values below show that the accuracy of true positives for the 'No Diabetes' class is high, whereas the other two classes are fairly low (or in the case of 'Pre-Diabetes', null).\n",
        "\n",
        "---\n",
        "\n",
        "> #### **Recall**: Fraction of positives that were correctly identified.\n",
        "  *Recall is the ability of a classifier to find all positive instances. For each class it is defined as the ratio of true positives to the sum of true positives and false negatives.*\n",
        "  The recall values below show the same trend observed for precision. Recollection for 'No Diabetes' is high and exceptional, whereas there is very low recollection for the other two classes.\n",
        "\n",
        "---\n",
        "\n",
        "> #### **F1-Score**: Weighted harmonic mean of precision and recall.\n",
        "  *The F1 score is on a range of 0.0 to 1.0; The best score is 1.0 and the worst is 0.0 - The weighted average of F1 should be used to compare classifier models, not global accuracy.*\n",
        "  The F1 scores below portray the precision and recall for each value. The 'Diabetes' and 'Pre-Diabetes' classes having such low F1 scores is a problem that is explored later in this case study."
      ],
      "metadata": {
        "id": "SGvg-HvApn9m"
      }
    },
    {
      "cell_type": "code",
      "source": [
        "from sklearn.metrics import classification_report\n",
        "\n",
        "ignore_warning()\n",
        "\n",
        "print(classification_report(y_test, y_pred, target_names=['No Diabetes', 'Pre-Diabetes', 'Diabetes']))"
      ],
      "metadata": {
        "id": "mSccWNKojYsD"
      },
      "execution_count": null,
      "outputs": []
    },
    {
      "cell_type": "markdown",
      "source": [
        "# Final Remarks"
      ],
      "metadata": {
        "id": "3SC6jAQ77Zgh"
      }
    },
    {
      "cell_type": "markdown",
      "source": [
        "Due to the moderate imbalanced nature of the dataset with regards to Diabetes cases, and the severe imbalanced nature with regards to Pre-Diabetes cases, an 85% accuracy is the best model that can be made through tweaking the parameters. One positive from the above model is that the number of false positives are relatively low, however, the false negatives are significant.\n",
        "\n",
        "The next course of action with this model would be to explore balancing the dataset and implementing a new ANN model on the balanced dataset."
      ],
      "metadata": {
        "id": "tU-EImA-7bsT"
      }
    }
  ]
}